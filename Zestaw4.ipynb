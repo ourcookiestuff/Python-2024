{
  "nbformat": 4,
  "nbformat_minor": 0,
  "metadata": {
    "colab": {
      "provenance": []
    },
    "kernelspec": {
      "name": "python3",
      "display_name": "Python 3"
    },
    "language_info": {
      "name": "python"
    }
  },
  "cells": [
    {
      "cell_type": "markdown",
      "source": [
        "# ZADANIE 4.2\n",
        "Rozwiązania zadań 3.5 i 3.6 z poprzedniego zestawu zapisać w postaci funkcji, które zwracają pełny string przez return. Funkcje nie powinny pytać użytkownika o dane, tylko korzystać z argumentów.\n",
        "\n"
      ],
      "metadata": {
        "id": "kaEPLzBtn_Ly"
      }
    },
    {
      "cell_type": "code",
      "execution_count": 155,
      "metadata": {
        "id": "ayt1BEidn5pR"
      },
      "outputs": [],
      "source": [
        "def make_ruler(n):\n",
        "  miarka = \"\"\n",
        "  for i in range(n):\n",
        "    miarka += \"|....\"\n",
        "  miarka += \"|\\n\"\n",
        "\n",
        "  numeracja = \"\"\n",
        "  for i in range(n+1):\n",
        "    if i < 9:\n",
        "      miarka += f\"{i:<{5}}\"\n",
        "    else:\n",
        "      miarka += f\"{i}   \"\n",
        "\n",
        "  return miarka\n",
        "\n",
        "def make_grid(rows, cols):\n",
        "  prostokat = \"+\" + \"---+\" * cols + \"\\n\"\n",
        "\n",
        "  for _ in range(rows):\n",
        "    prostokat += \"|\" + \"   |\" * cols + \"\\n\"\n",
        "    prostokat += \"+\" + \"---+\" * cols + \"\\n\"\n",
        "\n",
        "  return(prostokat)"
      ]
    },
    {
      "cell_type": "code",
      "source": [
        "ruler = make_ruler(12)\n",
        "print(ruler)"
      ],
      "metadata": {
        "colab": {
          "base_uri": "https://localhost:8080/"
        },
        "id": "b1a8n760qF5j",
        "outputId": "80b83dd2-aadd-44d7-de1b-ce5f2dc0af54"
      },
      "execution_count": 156,
      "outputs": [
        {
          "output_type": "stream",
          "name": "stdout",
          "text": [
            "|....|....|....|....|....|....|....|....|....|....|....|....|\n",
            "0    1    2    3    4    5    6    7    8    9   10   11   12   \n"
          ]
        }
      ]
    },
    {
      "cell_type": "code",
      "source": [
        "grid = make_grid(3,5)\n",
        "print(grid)"
      ],
      "metadata": {
        "colab": {
          "base_uri": "https://localhost:8080/"
        },
        "id": "q9lB5yX_qLWk",
        "outputId": "c1cf4986-9d7a-4ce4-b9cb-b16c6de2bebc"
      },
      "execution_count": 27,
      "outputs": [
        {
          "output_type": "stream",
          "name": "stdout",
          "text": [
            "+---+---+---+---+---+\n",
            "|   |   |   |   |   |\n",
            "+---+---+---+---+---+\n",
            "|   |   |   |   |   |\n",
            "+---+---+---+---+---+\n",
            "|   |   |   |   |   |\n",
            "+---+---+---+---+---+\n",
            "\n"
          ]
        }
      ]
    },
    {
      "cell_type": "markdown",
      "source": [
        "# ZADANIE 4.3\n",
        "Napisać iteracyjną wersję funkcji factorial(n) obliczającej silnię."
      ],
      "metadata": {
        "id": "XDhED7MhwJ4U"
      }
    },
    {
      "cell_type": "code",
      "source": [
        "def factorial(n):\n",
        "  silnia = 1\n",
        "  for i in range(1, n+1):\n",
        "    silnia *= i\n",
        "  return(silnia)"
      ],
      "metadata": {
        "id": "oC0cCmN0wP6Q"
      },
      "execution_count": 55,
      "outputs": []
    },
    {
      "cell_type": "code",
      "source": [
        "factorial(6)"
      ],
      "metadata": {
        "colab": {
          "base_uri": "https://localhost:8080/"
        },
        "id": "xzqd_9raw2EG",
        "outputId": "8f862995-3630-442b-bfcd-8b66cf64ad98"
      },
      "execution_count": 61,
      "outputs": [
        {
          "output_type": "execute_result",
          "data": {
            "text/plain": [
              "720"
            ]
          },
          "metadata": {},
          "execution_count": 61
        }
      ]
    },
    {
      "cell_type": "markdown",
      "source": [
        "# ZADANIE 4.4\n",
        "Napisać iteracyjną wersję funkcji fibonacci(n) obliczającej n-ty wyraz ciągu Fibonacciego."
      ],
      "metadata": {
        "id": "M8Tl0up7w8XZ"
      }
    },
    {
      "cell_type": "code",
      "source": [
        "def fibonacci(n):\n",
        "  x = 0\n",
        "  y = 1\n",
        "  z = 0\n",
        "  for i in range(n):\n",
        "    z = x + y\n",
        "    x = y\n",
        "    y = z\n",
        "  return(z)"
      ],
      "metadata": {
        "id": "9ng8asK7xBXo"
      },
      "execution_count": 63,
      "outputs": []
    },
    {
      "cell_type": "code",
      "source": [
        "fibonacci(7)"
      ],
      "metadata": {
        "colab": {
          "base_uri": "https://localhost:8080/"
        },
        "id": "aauNdd1Yx04L",
        "outputId": "b1356885-f5fe-4626-8681-b5b4df997909"
      },
      "execution_count": 66,
      "outputs": [
        {
          "output_type": "execute_result",
          "data": {
            "text/plain": [
              "21"
            ]
          },
          "metadata": {},
          "execution_count": 66
        }
      ]
    },
    {
      "cell_type": "markdown",
      "source": [
        "# ZADANIE 4.5\n",
        "Napisać funkcję odwracanie(L, left, right) odwracającą kolejność elementów na liście od numeru left do right włącznie. Lista jest modyfikowana w miejscu (in place). Rozważyć wersję iteracyjną i rekurencyjną."
      ],
      "metadata": {
        "id": "qzC3q_YNx8jA"
      }
    },
    {
      "cell_type": "markdown",
      "source": [
        "1. iteracyjna"
      ],
      "metadata": {
        "id": "dBMPwfwbzcKA"
      }
    },
    {
      "cell_type": "code",
      "source": [
        "def odwracanie_iteracyjne(L, left, right):\n",
        "  while left < right:\n",
        "    L[left], L[right] = L[right], L[left]\n",
        "    left += 1\n",
        "    right -= 1\n",
        "  return(L)"
      ],
      "metadata": {
        "id": "t2A56CDbyFRg"
      },
      "execution_count": 84,
      "outputs": []
    },
    {
      "cell_type": "code",
      "source": [
        "L = [1,2,3,4,5,6,7,8,9]\n",
        "odwracanie_iteracyjne(L, 2, 5)"
      ],
      "metadata": {
        "colab": {
          "base_uri": "https://localhost:8080/"
        },
        "id": "qqLPVLlOzhf8",
        "outputId": "386e0470-a778-43b3-984e-aeea902c6a67"
      },
      "execution_count": 85,
      "outputs": [
        {
          "output_type": "execute_result",
          "data": {
            "text/plain": [
              "[1, 2, 6, 5, 4, 3, 7, 8, 9]"
            ]
          },
          "metadata": {},
          "execution_count": 85
        }
      ]
    },
    {
      "cell_type": "markdown",
      "source": [
        "2. rekruencyjna"
      ],
      "metadata": {
        "id": "qK_IRAZYzeaa"
      }
    },
    {
      "cell_type": "code",
      "source": [
        "def odwracanie_rekurencyjne(L, left, right):\n",
        "  if left < right:\n",
        "    L[left], L[right] = L[right], L[left]\n",
        "    odwracanie_rekurencyjne(L, left + 1, right - 1)\n",
        "  return"
      ],
      "metadata": {
        "id": "H2Ihyyo5zg-E"
      },
      "execution_count": 86,
      "outputs": []
    },
    {
      "cell_type": "code",
      "source": [
        "L = [1,2,3,4,5,6,7,8,9]\n",
        "odwracanie_iteracyjne(L, 2, 5)"
      ],
      "metadata": {
        "colab": {
          "base_uri": "https://localhost:8080/"
        },
        "id": "Dxu_XtSe0vx3",
        "outputId": "27c6f841-9503-4de7-9bfe-b6e0028c36bb"
      },
      "execution_count": 87,
      "outputs": [
        {
          "output_type": "execute_result",
          "data": {
            "text/plain": [
              "[1, 2, 6, 5, 4, 3, 7, 8, 9]"
            ]
          },
          "metadata": {},
          "execution_count": 87
        }
      ]
    },
    {
      "cell_type": "markdown",
      "source": [
        "# ZADANIE 4.6\n",
        "Napisać funkcję sum_seq(sequence) obliczającą sumę liczb zawartych w sekwencji, która może zawierać zagnieżdżone podsekwencje. Wskazówka: rozważyć wersję rekurencyjną, a sprawdzanie, czy element jest sekwencją, wykonać przez isinstance(item, (list, tuple))."
      ],
      "metadata": {
        "id": "SY3cVOuW01Qc"
      }
    },
    {
      "cell_type": "code",
      "source": [
        "def sum_seq(sequence):\n",
        "  wynik = 0\n",
        "  for item in sequence:\n",
        "    if isinstance(item, (list, tuple)):\n",
        "      wynik += sum_seq(item)\n",
        "    else:\n",
        "      wynik += item\n",
        "  return wynik"
      ],
      "metadata": {
        "id": "7llT_HKo04cr"
      },
      "execution_count": 88,
      "outputs": []
    },
    {
      "cell_type": "code",
      "source": [
        "sequence = [1, 2, [3, 4, [5]], (6, 7), 8, (10, 10), [5, 5, (10, 10)]]\n",
        "print(sum_seq(sequence))"
      ],
      "metadata": {
        "colab": {
          "base_uri": "https://localhost:8080/"
        },
        "id": "qsJzR-Ud3EY6",
        "outputId": "2d28c231-413d-4515-d0d9-4585590a08c7"
      },
      "execution_count": 93,
      "outputs": [
        {
          "output_type": "stream",
          "name": "stdout",
          "text": [
            "86\n"
          ]
        }
      ]
    },
    {
      "cell_type": "markdown",
      "source": [
        "# ZADANIE 4.7\n",
        "Mamy daną sekwencję, w której niektóre z elementów mogą okazać się podsekwencjami, a takie zagnieżdżenia mogą się nakładać do nieograniczonej głębokości. Napisać funkcję flatten(sequence), która zwróci spłaszczoną listę wszystkich elementów sekwencji. Wskazówka: rozważyć wersję rekurencyjną, a sprawdzanie czy element jest sekwencją, wykonać przez isinstance(item, (list, tuple))."
      ],
      "metadata": {
        "id": "wdL_v8rw3WoD"
      }
    },
    {
      "cell_type": "code",
      "source": [
        "flat_list = []\n",
        "def flatten(sequence):\n",
        "  for item in sequence:\n",
        "    if isinstance(item, (list, tuple)):\n",
        "      flatten(item)\n",
        "    else:\n",
        "      flat_list.append(item)\n",
        "  return flat_list"
      ],
      "metadata": {
        "id": "y-WARBJw3d4L"
      },
      "execution_count": 21,
      "outputs": []
    },
    {
      "cell_type": "code",
      "source": [
        "sequence = [1, 2, [3, 4, [5]], (6, 7), 8, (10, 10), [5, 5, (10, 10)]]\n",
        "print(flatten(sequence))"
      ],
      "metadata": {
        "colab": {
          "base_uri": "https://localhost:8080/"
        },
        "outputId": "c8771421-30af-4f02-d217-df8037f9b373",
        "id": "nCS2tAJ36R4R"
      },
      "execution_count": 22,
      "outputs": [
        {
          "output_type": "stream",
          "name": "stdout",
          "text": [
            "[1, 2, 3, 4, 5, 6, 7, 8, 10, 10, 5, 5, 10, 10]\n"
          ]
        }
      ]
    },
    {
      "cell_type": "code",
      "source": [
        "sequence = [1,(2,3),[],[4,(5,6,7)],8,[9]]\n",
        "print(flatten(sequence))   # [1,2,3,4,5,6,7,8,9]"
      ],
      "metadata": {
        "colab": {
          "base_uri": "https://localhost:8080/"
        },
        "id": "qcH8Rq38-fNM",
        "outputId": "434f28d3-6dc5-4613-c9e1-5e165018b8df"
      },
      "execution_count": 19,
      "outputs": [
        {
          "output_type": "stream",
          "name": "stdout",
          "text": [
            "[1, 2, 3, 4, 5, 6, 7, 8, 9]\n"
          ]
        }
      ]
    }
  ]
}