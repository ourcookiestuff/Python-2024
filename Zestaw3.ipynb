{
  "nbformat": 4,
  "nbformat_minor": 0,
  "metadata": {
    "colab": {
      "provenance": [],
      "toc_visible": true
    },
    "kernelspec": {
      "name": "python3",
      "display_name": "Python 3"
    },
    "language_info": {
      "name": "python"
    }
  },
  "cells": [
    {
      "cell_type": "markdown",
      "source": [
        "# ZADANIE 3.1\n",
        "Czy podany kod jest poprawny składniowo w Pythonie? Jeśli nie, to dlaczego?\n",
        "\n"
      ],
      "metadata": {
        "id": "YF6_3pp0HLKq"
      }
    },
    {
      "cell_type": "code",
      "execution_count": 1,
      "metadata": {
        "colab": {
          "base_uri": "https://localhost:8080/",
          "height": 108
        },
        "id": "kIOfzazNHAeU",
        "outputId": "e08f4688-4969-4cfd-f15a-ea0035094c4f"
      },
      "outputs": [
        {
          "output_type": "error",
          "ename": "SyntaxError",
          "evalue": "invalid syntax (<ipython-input-1-52c952a1bfb1>, line 6)",
          "traceback": [
            "\u001b[0;36m  File \u001b[0;32m\"<ipython-input-1-52c952a1bfb1>\"\u001b[0;36m, line \u001b[0;32m6\u001b[0m\n\u001b[0;31m    for i in \"axby\": if ord(i) < 100: print (i)\u001b[0m\n\u001b[0m                     ^\u001b[0m\n\u001b[0;31mSyntaxError\u001b[0m\u001b[0;31m:\u001b[0m invalid syntax\n"
          ]
        }
      ],
      "source": [
        "x = 2; y = 3;\n",
        "if (x > y):\n",
        "    result = x;\n",
        "else:\n",
        "    result = y;\n",
        "for i in \"axby\": if ord(i) < 100: print (i)\n",
        "for i in \"axby\": print (ord(i) if ord(i) < 100 else i)"
      ]
    },
    {
      "cell_type": "markdown",
      "source": [
        "Są dwa problemy:\n",
        "1. W Pythonie nie można umieszczać instrukcji if w tej samej linii co pętla for. Należy rozdzielić pętlę for i instrukcję if.\n",
        "2.  Chociaż średniki są dozwolone w Pythonie do oddzielania instrukcji, nie są one powszechnie używane."
      ],
      "metadata": {
        "id": "3NcuHCoBJ32w"
      }
    },
    {
      "cell_type": "markdown",
      "source": [
        "# ZADANIE 3.2\n",
        "Co jest złego w kodzie:"
      ],
      "metadata": {
        "id": "52LBFao0KQNJ"
      }
    },
    {
      "cell_type": "code",
      "source": [
        "L = [3, 5, 4] ; L = L.sort()\n",
        "print(L)"
      ],
      "metadata": {
        "colab": {
          "base_uri": "https://localhost:8080/"
        },
        "id": "xVS0XGtpKf6N",
        "outputId": "53b58eb9-eb46-47df-81a6-b2530abbe01a"
      },
      "execution_count": 5,
      "outputs": [
        {
          "output_type": "stream",
          "name": "stdout",
          "text": [
            "None\n"
          ]
        }
      ]
    },
    {
      "cell_type": "markdown",
      "source": [
        "Metoda sort() sortuje listę w miejscu i zwraca None, więc przypisanie L = L.sort() powoduje, że L staje się None"
      ],
      "metadata": {
        "id": "H10vHbAfPH38"
      }
    },
    {
      "cell_type": "code",
      "source": [
        "x, y = 1, 2, 3"
      ],
      "metadata": {
        "colab": {
          "base_uri": "https://localhost:8080/",
          "height": 144
        },
        "id": "jPnNYu20PIw4",
        "outputId": "879cecd1-9cda-479d-aae3-24ba0f726e6c"
      },
      "execution_count": 7,
      "outputs": [
        {
          "output_type": "error",
          "ename": "ValueError",
          "evalue": "too many values to unpack (expected 2)",
          "traceback": [
            "\u001b[0;31m---------------------------------------------------------------------------\u001b[0m",
            "\u001b[0;31mValueError\u001b[0m                                Traceback (most recent call last)",
            "\u001b[0;32m<ipython-input-7-10edbbb6d673>\u001b[0m in \u001b[0;36m<cell line: 1>\u001b[0;34m()\u001b[0m\n\u001b[0;32m----> 1\u001b[0;31m \u001b[0mx\u001b[0m\u001b[0;34m,\u001b[0m \u001b[0my\u001b[0m \u001b[0;34m=\u001b[0m \u001b[0;36m1\u001b[0m\u001b[0;34m,\u001b[0m \u001b[0;36m2\u001b[0m\u001b[0;34m,\u001b[0m \u001b[0;36m3\u001b[0m\u001b[0;34m\u001b[0m\u001b[0;34m\u001b[0m\u001b[0m\n\u001b[0m",
            "\u001b[0;31mValueError\u001b[0m: too many values to unpack (expected 2)"
          ]
        }
      ]
    },
    {
      "cell_type": "markdown",
      "source": [
        "To przypisanie jest niepoprawne, ponieważ próbuje przypisać trzy liczby do dwóch zmiennych."
      ],
      "metadata": {
        "id": "rSxMRD92PSEG"
      }
    },
    {
      "cell_type": "code",
      "source": [
        "X = 1, 2, 3 ; X[1] = 4"
      ],
      "metadata": {
        "colab": {
          "base_uri": "https://localhost:8080/",
          "height": 144
        },
        "id": "Xjdi2X_pPoAE",
        "outputId": "0cdef3d6-524b-438f-c56e-f25dec1ff9d1"
      },
      "execution_count": 8,
      "outputs": [
        {
          "output_type": "error",
          "ename": "TypeError",
          "evalue": "'tuple' object does not support item assignment",
          "traceback": [
            "\u001b[0;31m---------------------------------------------------------------------------\u001b[0m",
            "\u001b[0;31mTypeError\u001b[0m                                 Traceback (most recent call last)",
            "\u001b[0;32m<ipython-input-8-903472ef06cb>\u001b[0m in \u001b[0;36m<cell line: 1>\u001b[0;34m()\u001b[0m\n\u001b[0;32m----> 1\u001b[0;31m \u001b[0mX\u001b[0m \u001b[0;34m=\u001b[0m \u001b[0;36m1\u001b[0m\u001b[0;34m,\u001b[0m \u001b[0;36m2\u001b[0m\u001b[0;34m,\u001b[0m \u001b[0;36m3\u001b[0m \u001b[0;34m;\u001b[0m \u001b[0mX\u001b[0m\u001b[0;34m[\u001b[0m\u001b[0;36m1\u001b[0m\u001b[0;34m]\u001b[0m \u001b[0;34m=\u001b[0m \u001b[0;36m4\u001b[0m\u001b[0;34m\u001b[0m\u001b[0;34m\u001b[0m\u001b[0m\n\u001b[0m",
            "\u001b[0;31mTypeError\u001b[0m: 'tuple' object does not support item assignment"
          ]
        }
      ]
    },
    {
      "cell_type": "markdown",
      "source": [
        "X jest krotką (tuple), a krotki są niemutowalne, więc przypisanie X[1] = 4 spowoduje błąd."
      ],
      "metadata": {
        "id": "oxSYk6clPrps"
      }
    },
    {
      "cell_type": "code",
      "source": [
        "X = [1, 2, 3] ; X[3] = 4"
      ],
      "metadata": {
        "colab": {
          "base_uri": "https://localhost:8080/",
          "height": 144
        },
        "id": "RwiqmMb-PztT",
        "outputId": "8b23ab5c-2a88-4daf-ea9f-2f045bb50a60"
      },
      "execution_count": 9,
      "outputs": [
        {
          "output_type": "error",
          "ename": "IndexError",
          "evalue": "list assignment index out of range",
          "traceback": [
            "\u001b[0;31m---------------------------------------------------------------------------\u001b[0m",
            "\u001b[0;31mIndexError\u001b[0m                                Traceback (most recent call last)",
            "\u001b[0;32m<ipython-input-9-5b757d0b0659>\u001b[0m in \u001b[0;36m<cell line: 1>\u001b[0;34m()\u001b[0m\n\u001b[0;32m----> 1\u001b[0;31m \u001b[0mX\u001b[0m \u001b[0;34m=\u001b[0m \u001b[0;34m[\u001b[0m\u001b[0;36m1\u001b[0m\u001b[0;34m,\u001b[0m \u001b[0;36m2\u001b[0m\u001b[0;34m,\u001b[0m \u001b[0;36m3\u001b[0m\u001b[0;34m]\u001b[0m \u001b[0;34m;\u001b[0m \u001b[0mX\u001b[0m\u001b[0;34m[\u001b[0m\u001b[0;36m3\u001b[0m\u001b[0;34m]\u001b[0m \u001b[0;34m=\u001b[0m \u001b[0;36m4\u001b[0m\u001b[0;34m\u001b[0m\u001b[0;34m\u001b[0m\u001b[0m\n\u001b[0m",
            "\u001b[0;31mIndexError\u001b[0m: list assignment index out of range"
          ]
        }
      ]
    },
    {
      "cell_type": "markdown",
      "source": [
        "Indeks 3 jest poza zakresem, ponieważ lista ma tylko indeksy 0, 1 i 2."
      ],
      "metadata": {
        "id": "qbTuxmmrP5Zl"
      }
    },
    {
      "cell_type": "code",
      "source": [
        "X = \"abc\" ; X.append(\"d\")"
      ],
      "metadata": {
        "colab": {
          "base_uri": "https://localhost:8080/",
          "height": 144
        },
        "id": "BEFfcED9QC08",
        "outputId": "22def782-0e69-452d-d8bd-eb13a0654b66"
      },
      "execution_count": 10,
      "outputs": [
        {
          "output_type": "error",
          "ename": "AttributeError",
          "evalue": "'str' object has no attribute 'append'",
          "traceback": [
            "\u001b[0;31m---------------------------------------------------------------------------\u001b[0m",
            "\u001b[0;31mAttributeError\u001b[0m                            Traceback (most recent call last)",
            "\u001b[0;32m<ipython-input-10-c21a49a27667>\u001b[0m in \u001b[0;36m<cell line: 1>\u001b[0;34m()\u001b[0m\n\u001b[0;32m----> 1\u001b[0;31m \u001b[0mX\u001b[0m \u001b[0;34m=\u001b[0m \u001b[0;34m\"abc\"\u001b[0m \u001b[0;34m;\u001b[0m \u001b[0mX\u001b[0m\u001b[0;34m.\u001b[0m\u001b[0mappend\u001b[0m\u001b[0;34m(\u001b[0m\u001b[0;34m\"d\"\u001b[0m\u001b[0;34m)\u001b[0m\u001b[0;34m\u001b[0m\u001b[0;34m\u001b[0m\u001b[0m\n\u001b[0m",
            "\u001b[0;31mAttributeError\u001b[0m: 'str' object has no attribute 'append'"
          ]
        }
      ]
    },
    {
      "cell_type": "markdown",
      "source": [
        "Metoda append() działa na listach, ale jeśli X jest zdefiniowane jako X = \"abc\", to \"abc\" jest łańcuchem znaków, który jest niemutowalny."
      ],
      "metadata": {
        "id": "Uo-yX4AnQIKO"
      }
    },
    {
      "cell_type": "code",
      "source": [
        "L = list(map(pow, range(8)))"
      ],
      "metadata": {
        "colab": {
          "base_uri": "https://localhost:8080/",
          "height": 144
        },
        "id": "8SpyZTE5QK0-",
        "outputId": "ef4b8e12-314e-4f84-884a-a830caff4d68"
      },
      "execution_count": 11,
      "outputs": [
        {
          "output_type": "error",
          "ename": "TypeError",
          "evalue": "pow() missing required argument 'exp' (pos 2)",
          "traceback": [
            "\u001b[0;31m---------------------------------------------------------------------------\u001b[0m",
            "\u001b[0;31mTypeError\u001b[0m                                 Traceback (most recent call last)",
            "\u001b[0;32m<ipython-input-11-c18d5013adce>\u001b[0m in \u001b[0;36m<cell line: 1>\u001b[0;34m()\u001b[0m\n\u001b[0;32m----> 1\u001b[0;31m \u001b[0mL\u001b[0m \u001b[0;34m=\u001b[0m \u001b[0mlist\u001b[0m\u001b[0;34m(\u001b[0m\u001b[0mmap\u001b[0m\u001b[0;34m(\u001b[0m\u001b[0mpow\u001b[0m\u001b[0;34m,\u001b[0m \u001b[0mrange\u001b[0m\u001b[0;34m(\u001b[0m\u001b[0;36m8\u001b[0m\u001b[0;34m)\u001b[0m\u001b[0;34m)\u001b[0m\u001b[0;34m)\u001b[0m\u001b[0;34m\u001b[0m\u001b[0;34m\u001b[0m\u001b[0m\n\u001b[0m",
            "\u001b[0;31mTypeError\u001b[0m: pow() missing required argument 'exp' (pos 2)"
          ]
        }
      ]
    },
    {
      "cell_type": "markdown",
      "source": [
        "To wywołanie jest niepoprawne, ponieważ pow wymaga przynajmniej dwóch argumentów."
      ],
      "metadata": {
        "id": "WMyU9UQbQNX4"
      }
    },
    {
      "cell_type": "markdown",
      "source": [
        "# ZADANIE 3.3\n",
        "Wypisać w pętli liczby od 0 do 30 z wyjątkiem liczb podzielnych przez 3."
      ],
      "metadata": {
        "id": "cl_py3PVQS1R"
      }
    },
    {
      "cell_type": "code",
      "source": [
        "for i in range(31):\n",
        "  if i % 3 != 0:\n",
        "    print(i)"
      ],
      "metadata": {
        "colab": {
          "base_uri": "https://localhost:8080/"
        },
        "id": "ZxC2PVJ_QXH8",
        "outputId": "391e4657-50a3-4d4b-86ca-5a3e5d215cca"
      },
      "execution_count": 26,
      "outputs": [
        {
          "output_type": "stream",
          "name": "stdout",
          "text": [
            "1\n",
            "2\n",
            "4\n",
            "5\n",
            "7\n",
            "8\n",
            "10\n",
            "11\n",
            "13\n",
            "14\n",
            "16\n",
            "17\n",
            "19\n",
            "20\n",
            "22\n",
            "23\n",
            "25\n",
            "26\n",
            "28\n",
            "29\n"
          ]
        }
      ]
    },
    {
      "cell_type": "markdown",
      "source": [
        "# ZADANIE 3.4\n",
        "Napisać program pobierający w pętli od użytkownika liczbę rzeczywistą x (typ float) i wypisujący x oraz trzecią potęgę x. Zatrzymanie programu następuje po wpisaniu z klawiatury stop. Jeżeli użytkownik wpisze napis zamiast liczby, to program ma wypisać komunikat o błędzie i kontynuować pracę."
      ],
      "metadata": {
        "id": "JvLlCJo6QwwS"
      }
    },
    {
      "cell_type": "code",
      "source": [
        "while True:\n",
        "  user_input = input(\"Podaj liczbę rzeczywistą lub wpisz 'stop' aby zakończyć: \")\n",
        "\n",
        "  if user_input.lower() == 'stop':\n",
        "    print(\"Program zakończył działanie.\")\n",
        "    break\n",
        "\n",
        "  try:\n",
        "    x = float(user_input)\n",
        "    print(f\"Liczba: {x}, Trzecia potęga: {x**3}\")\n",
        "  except ValueError:\n",
        "    print(\"Error: Wprowadzono niepoprawną wartość. Proszę wpisać liczbę rzeczywistą.\")"
      ],
      "metadata": {
        "colab": {
          "base_uri": "https://localhost:8080/"
        },
        "id": "X8V79lPZQ01x",
        "outputId": "ed215306-bda9-4dcb-c785-801afc85823c"
      },
      "execution_count": 23,
      "outputs": [
        {
          "output_type": "stream",
          "name": "stdout",
          "text": [
            "Podaj liczbę rzeczywistą lub wpisz 'stop' aby zakończyć: 34\n",
            "Liczba: 34.0, Trzecia potęga: 39304.0\n",
            "Podaj liczbę rzeczywistą lub wpisz 'stop' aby zakończyć: kfs\n",
            "Error: Wprowadzono niepoprawną wartość. Proszę wpisać liczbę rzeczywistą.\n",
            "Podaj liczbę rzeczywistą lub wpisz 'stop' aby zakończyć: stop\n",
            "Program zakończył działanie.\n"
          ]
        }
      ]
    },
    {
      "cell_type": "markdown",
      "source": [
        "# ZADANIE 3.5\n",
        "Napisać program rysujący \"miarkę\" o zadanej długości. Należy prawidłowo obsłużyć liczby składające się z kilku cyfr (ostatnia cyfra liczby ma znajdować się pod znakiem kreski pionowej). Należy zbudować pełny string, a potem go wypisać."
      ],
      "metadata": {
        "id": "MuhwQ5_EWC3m"
      }
    },
    {
      "cell_type": "code",
      "source": [
        "def rysuj_miarke(dlugosc):\n",
        "  miarka_gora = \"\"\n",
        "  for i in range(dlugosc):\n",
        "    miarka_gora += \"|....\"\n",
        "  miarka_gora += \"|\\n\"\n",
        "\n",
        "  miarka_dol = \"\"\n",
        "  for i in range(dlugosc + 1):\n",
        "    miarka_dol += f\"{i:<5}\"\n",
        "\n",
        "  miarka = miarka_gora + miarka_dol\n",
        "  print(miarka)"
      ],
      "metadata": {
        "id": "yJ5THB-uWPQr"
      },
      "execution_count": 14,
      "outputs": []
    },
    {
      "cell_type": "code",
      "source": [
        "dlugosc = int(input(\"Podaj długość miarki: \"))\n",
        "rysuj_miarke(dlugosc)"
      ],
      "metadata": {
        "colab": {
          "base_uri": "https://localhost:8080/"
        },
        "id": "EReWf-IuWhYq",
        "outputId": "fb64775e-2476-45cd-db5a-096a6a50ef12"
      },
      "execution_count": 24,
      "outputs": [
        {
          "output_type": "stream",
          "name": "stdout",
          "text": [
            "Podaj długość miarki: 12\n",
            "|....|....|....|....|....|....|....|....|....|....|....|....|\n",
            "0    1    2    3    4    5    6    7    8    9    10   11   12   \n"
          ]
        }
      ]
    },
    {
      "cell_type": "markdown",
      "source": [
        "# ZADANIE 3.6\n",
        "Napisać program rysujący prostokąt zbudowany z małych kratek. Należy zbudować pełny string, a potem go wypisać."
      ],
      "metadata": {
        "id": "HBjlh34yWyeQ"
      }
    },
    {
      "cell_type": "code",
      "source": [
        "def rysuj_prostokat(szerokosc, wysokosc):\n",
        "  prostokat = \"+\" + \"---+\" * szerokosc + \"\\n\"\n",
        "\n",
        "  for _ in range(wysokosc):\n",
        "    prostokat += \"|\" + \"   |\" * szerokosc + \"\\n\"\n",
        "    prostokat += \"+\" + \"---+\" * szerokosc + \"\\n\"\n",
        "\n",
        "  print(prostokat)"
      ],
      "metadata": {
        "id": "sN4Myd16W2cP"
      },
      "execution_count": 16,
      "outputs": []
    },
    {
      "cell_type": "code",
      "source": [
        "wysokosc = int(input(\"Podaj wysokość: \"))\n",
        "szerokosc = int(input(\"Podaj szerokość: \"))\n",
        "rysuj_prostokat(szerokosc, wysokosc)"
      ],
      "metadata": {
        "colab": {
          "base_uri": "https://localhost:8080/"
        },
        "id": "Te5i3BRKXM1w",
        "outputId": "ea691629-590a-49d7-b1b5-ec20506c8b48"
      },
      "execution_count": 38,
      "outputs": [
        {
          "output_type": "stream",
          "name": "stdout",
          "text": [
            "Podaj wysokość: 2\n",
            "Podaj szerokość: 4\n",
            "+---+---+---+---+\n",
            "|   |   |   |   |\n",
            "+---+---+---+---+\n",
            "|   |   |   |   |\n",
            "+---+---+---+---+\n",
            "\n"
          ]
        }
      ]
    },
    {
      "cell_type": "markdown",
      "source": [
        "# ZADANIE 3.8\n",
        "Dla dwóch sekwencji liczb lub znaków znaleźć: (a) listę elementów występujących jednocześnie w obu sekwencjach (bez powtórzeń), (b) listę wszystkich elementów z obu sekwencji (bez powtórzeń)."
      ],
      "metadata": {
        "id": "pm7fLvRVXZS4"
      }
    },
    {
      "cell_type": "code",
      "source": [
        "def znajdz_elementy(sekwencja1, sekwencja2):\n",
        "  zbior1 = set(sekwencja1)\n",
        "  zbior2 = set(sekwencja2)\n",
        "\n",
        "  #(a) część wspólna\n",
        "  wspolne = list(zbior1 & zbior2)\n",
        "\n",
        "  #(b) suma zbiorów\n",
        "  wszystkie = list(zbior1 | zbior2)\n",
        "\n",
        "  return wspolne, wszystkie"
      ],
      "metadata": {
        "id": "0Ysp8hHpXjXw"
      },
      "execution_count": 25,
      "outputs": []
    },
    {
      "cell_type": "code",
      "source": [
        "sekwencja1 = \"12345\"\n",
        "sekwencja2 = \"34567\"\n",
        "\n",
        "wspolne, wszystkie = znajdz_elementy(sekwencja1, sekwencja2)\n",
        "\n",
        "print(\"Elementy występujące w obu sekwencjach:\", wspolne)\n",
        "print(\"Unikalne elementy z obu sekwencji:\", wszystkie)"
      ],
      "metadata": {
        "colab": {
          "base_uri": "https://localhost:8080/"
        },
        "id": "T73EJSIKX4Z1",
        "outputId": "c51a4373-0543-41cf-d635-96be8858c30b"
      },
      "execution_count": 27,
      "outputs": [
        {
          "output_type": "stream",
          "name": "stdout",
          "text": [
            "Elementy występujące w obu sekwencjach: ['3', '5', '4']\n",
            "Unikalne elementy z obu sekwencji: ['1', '3', '7', '6', '5', '2', '4']\n"
          ]
        }
      ]
    },
    {
      "cell_type": "markdown",
      "source": [
        "# ZADANIE 3.9\n",
        "Mamy daną listę sekwencji (listy lub krotki) różnej długości zawierających liczby. Znaleźć listę zawierającą sumy liczb z tych sekwencji. Przykładowa sekwencja [[],[4],(1,2),[3,4],(5,6,7)], spodziewany wynik [0,4,3,7,18]."
      ],
      "metadata": {
        "id": "pWiub3VqYrdu"
      }
    },
    {
      "cell_type": "code",
      "source": [
        "def sumy_sekwencji(lista_sekwencji):\n",
        "  return [sum(sekwencja) for sekwencja in lista_sekwencji]"
      ],
      "metadata": {
        "id": "k5fzDaedYwfo"
      },
      "execution_count": 29,
      "outputs": []
    },
    {
      "cell_type": "code",
      "source": [
        "lista_sekwencji = [[],[4],(1, 2),[3, 4],(5, 6, 7)]\n",
        "wynik = sumy_sekwencji(lista_sekwencji)\n",
        "print(wynik)"
      ],
      "metadata": {
        "colab": {
          "base_uri": "https://localhost:8080/"
        },
        "id": "xNWXaWXed9v2",
        "outputId": "3a693793-fbb1-4c4b-e498-3c539b610b8b"
      },
      "execution_count": 36,
      "outputs": [
        {
          "output_type": "stream",
          "name": "stdout",
          "text": [
            "[0, 4, 3, 7, 18]\n"
          ]
        }
      ]
    },
    {
      "cell_type": "markdown",
      "source": [
        "# ZADANIE 3.10\n",
        "Stworzyć słownik tłumaczący liczby zapisane w systemie rzymskim (z literami I, V, X, L, C, D, M) na liczby arabskie (podać kilka sposobów tworzenia takiego słownika). Mile widziany kod tłumaczący całą liczbę [funkcja roman2int()]."
      ],
      "metadata": {
        "id": "JMHMzP9DeL0m"
      }
    },
    {
      "cell_type": "markdown",
      "source": [
        "1. Ręczne stworzenie słownika"
      ],
      "metadata": {
        "id": "UeG4fyBqfWic"
      }
    },
    {
      "cell_type": "code",
      "source": [
        "rzymskie_na_arabskie = {\n",
        "  'I': 1,\n",
        "  'V': 5,\n",
        "  'X': 10,\n",
        "  'L': 50,\n",
        "  'C': 100,\n",
        "  'D': 500,\n",
        "  'M': 1000\n",
        "}"
      ],
      "metadata": {
        "id": "DKvr4BghfQoW"
      },
      "execution_count": null,
      "outputs": []
    },
    {
      "cell_type": "markdown",
      "source": [
        "2. Użycie funkcji zip()"
      ],
      "metadata": {
        "id": "Ykf2E7dqfZ0s"
      }
    },
    {
      "cell_type": "code",
      "source": [
        "litery = ['I', 'V', 'X', 'L', 'C', 'D', 'M']\n",
        "wartosci = [1, 5, 10, 50, 100, 500, 1000]\n",
        "rzymskie_na_arabskie = dict(zip(litery, wartosci))"
      ],
      "metadata": {
        "id": "X7DL2YFsfThF"
      },
      "execution_count": null,
      "outputs": []
    },
    {
      "cell_type": "markdown",
      "source": [
        "3. Użycie dict() z krotek"
      ],
      "metadata": {
        "id": "49w1lK32figv"
      }
    },
    {
      "cell_type": "code",
      "source": [
        "rzymskie_na_arabskie = dict([\n",
        "  ('I', 1), ('V', 5), ('X', 10),\n",
        "  ('L', 50), ('C', 100), ('D', 500), ('M', 1000)\n",
        "])"
      ],
      "metadata": {
        "id": "YteRUoImfd_M"
      },
      "execution_count": null,
      "outputs": []
    },
    {
      "cell_type": "markdown",
      "source": [
        "Funkcja roman2int()"
      ],
      "metadata": {
        "id": "KRLEcSQqfm8s"
      }
    },
    {
      "cell_type": "code",
      "source": [
        "def roman2int(roman):\n",
        "  rzymskie_na_arabskie = {\n",
        "    'I': 1,\n",
        "    'V': 5,\n",
        "    'X': 10,\n",
        "    'L': 50,\n",
        "    'C': 100,\n",
        "    'D': 500,\n",
        "    'M': 1000\n",
        "  }\n",
        "\n",
        "  liczba_arabska = 0\n",
        "  poprzednia_wartosc = 0\n",
        "\n",
        "  for litera in reversed(roman):\n",
        "    wartosc = rzymskie_na_arabskie[litera]\n",
        "\n",
        "    if wartosc < poprzednia_wartosc:\n",
        "      liczba_arabska -= wartosc\n",
        "    else:\n",
        "      liczba_arabska += wartosc\n",
        "\n",
        "    poprzednia_wartosc = wartosc\n",
        "\n",
        "  return liczba_arabska"
      ],
      "metadata": {
        "id": "fJfhOyS3ePo5"
      },
      "execution_count": 32,
      "outputs": []
    },
    {
      "cell_type": "code",
      "source": [
        "print(roman2int(\"LXXIII\"))\n",
        "print(roman2int(\"MCDX\"))"
      ],
      "metadata": {
        "colab": {
          "base_uri": "https://localhost:8080/"
        },
        "id": "27MeB2eaf5Qw",
        "outputId": "3acbe004-30bb-4eed-8dae-25163dd3f831"
      },
      "execution_count": 35,
      "outputs": [
        {
          "output_type": "stream",
          "name": "stdout",
          "text": [
            "73\n",
            "1410\n"
          ]
        }
      ]
    }
  ]
}