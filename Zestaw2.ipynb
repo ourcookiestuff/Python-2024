{
  "cells": [
    {
      "cell_type": "markdown",
      "metadata": {
        "id": "xcrxSMC5Tfyf"
      },
      "source": [
        "# ZADANIE 2.10\n",
        "Mamy dany napis wielowierszowy line. Podać sposób obliczenia liczby wyrazów w napisie. Przez wyraz rozumiemy ciąg \"czarnych\" znaków, oddzielony od innych wyrazów białymi znakami (spacja, tabulacja, newline)."
      ]
    },
    {
      "cell_type": "code",
      "execution_count": 1,
      "metadata": {
        "id": "ShgOmdohS4fj"
      },
      "outputs": [],
      "source": [
        "def liczba_wyrazow(line):\n",
        "  return len(line.split())"
      ]
    },
    {
      "cell_type": "code",
      "execution_count": 2,
      "metadata": {
        "colab": {
          "base_uri": "https://localhost:8080/"
        },
        "id": "NFHlRjnHUcJs",
        "outputId": "43f3668e-52f4-47c6-a194-bcb39432cd83"
      },
      "outputs": [
        {
          "name": "stdout",
          "output_type": "stream",
          "text": [
            "9\n"
          ]
        }
      ],
      "source": [
        "line = \"\"\"To jest przykładowy\n",
        "wielowierszowy tekst,\n",
        "który zawiera kilka wyrazów.\"\"\"\n",
        "print(liczba_wyrazow(line))"
      ]
    },
    {
      "cell_type": "markdown",
      "metadata": {
        "id": "8aTkbDpcVJLF"
      },
      "source": [
        "# ZADANIE 2.11\n",
        "Podać sposób wyświetlania napisu word tak, aby jego znaki były rozdzielone znakiem podkreślenia."
      ]
    },
    {
      "cell_type": "code",
      "execution_count": 3,
      "metadata": {
        "id": "SdsSfvWdVTDg"
      },
      "outputs": [],
      "source": [
        "def rozdzielenie_napisu(word):\n",
        "  return '_'.join(word)"
      ]
    },
    {
      "cell_type": "code",
      "execution_count": 4,
      "metadata": {
        "colab": {
          "base_uri": "https://localhost:8080/"
        },
        "id": "jj-iy907ZiOz",
        "outputId": "05dc174b-6127-46b6-b80a-a2353d5cc822"
      },
      "outputs": [
        {
          "name": "stdout",
          "output_type": "stream",
          "text": [
            "n_a_p_i_s\n"
          ]
        }
      ],
      "source": [
        "word = \"napis\"\n",
        "print(rozdzielenie_napisu(word))"
      ]
    },
    {
      "cell_type": "markdown",
      "metadata": {
        "id": "I-nSeagDZqHO"
      },
      "source": [
        "# ZADANIE 2.12\n",
        "Zbudować napis stworzony z pierwszych znaków wyrazów z wiersza line. Zbudować napis stworzony z ostatnich znaków wyrazów z wiersza line."
      ]
    },
    {
      "cell_type": "code",
      "execution_count": 5,
      "metadata": {
        "id": "fdo5Jd7uZ5kt"
      },
      "outputs": [],
      "source": [
        "def pierwszy_ostatni_znak(line):\n",
        "  words = line.split()\n",
        "  pierwszy_znak = ''.join([word[0] for word in words])\n",
        "  ostatni_znak = ''.join([word[-1] for word in words])\n",
        "  return pierwszy_znak, ostatni_znak"
      ]
    },
    {
      "cell_type": "code",
      "execution_count": 6,
      "metadata": {
        "colab": {
          "base_uri": "https://localhost:8080/"
        },
        "id": "fFqxsaOWmoWW",
        "outputId": "46c60541-fd51-4d41-c129-e536a76aca1c"
      },
      "outputs": [
        {
          "name": "stdout",
          "output_type": "stream",
          "text": [
            "('Tjpwtkzkw', 'otyy,yaa.')\n"
          ]
        }
      ],
      "source": [
        "print(pierwszy_ostatni_znak(line))"
      ]
    },
    {
      "cell_type": "markdown",
      "metadata": {
        "id": "7WqWr3Z7nUoE"
      },
      "source": [
        "# ZADANIE 2.13\n",
        "Znaleźć łączną długość wyrazów w napisie line. Wskazówka: można skorzystać z funkcji sum()."
      ]
    },
    {
      "cell_type": "code",
      "execution_count": 17,
      "metadata": {
        "id": "adNGk2TanXdD"
      },
      "outputs": [],
      "source": [
        "def dlugosc_wyrazow(line):\n",
        "  words = line.split()\n",
        "  liczba = sum(len(word) for word in words)\n",
        "  return liczba"
      ]
    },
    {
      "cell_type": "code",
      "execution_count": 18,
      "metadata": {
        "colab": {
          "base_uri": "https://localhost:8080/"
        },
        "id": "ChK2qOYOoCuM",
        "outputId": "cff0b749-b6f8-4391-915d-a29c716850d3"
      },
      "outputs": [
        {
          "name": "stdout",
          "output_type": "stream",
          "text": [
            "62\n"
          ]
        }
      ],
      "source": [
        "print(dlugosc_wyrazow(line))"
      ]
    },
    {
      "cell_type": "markdown",
      "metadata": {
        "id": "BQmJgXURqlSl"
      },
      "source": [
        "# ZADANIE 2.14\n",
        "Znaleźć: (a) najdłuższy wyraz, (b) długość najdłuższego wyrazu w napisie line."
      ]
    },
    {
      "cell_type": "code",
      "execution_count": 19,
      "metadata": {
        "id": "uwdb3IorqoWl"
      },
      "outputs": [],
      "source": [
        "def najdluzszy_wyraz(line):\n",
        "  words = line.split()\n",
        "  najdluzszy = max(words, key=len)\n",
        "  dlugosc = len(najdluzszy)\n",
        "  return najdluzszy, dlugosc"
      ]
    },
    {
      "cell_type": "code",
      "execution_count": 20,
      "metadata": {
        "colab": {
          "base_uri": "https://localhost:8080/"
        },
        "id": "0SX_4Xw4r8yl",
        "outputId": "fa3960a7-e2ac-4e3c-f39d-2a47846cfb29"
      },
      "outputs": [
        {
          "name": "stdout",
          "output_type": "stream",
          "text": [
            "('wielowierszowy', 14)\n"
          ]
        }
      ],
      "source": [
        "print(najdluzszy_wyraz(line))"
      ]
    },
    {
      "cell_type": "markdown",
      "metadata": {
        "id": "hzZ4kUmPsEd-"
      },
      "source": [
        "# ZADANIE 2.15\n",
        "Na liście L znajdują się liczby całkowite dodatnie. Stworzyć napis będący ciągiem cyfr kolejnych liczb z listy L."
      ]
    },
    {
      "cell_type": "code",
      "execution_count": 21,
      "metadata": {
        "id": "IStTndK6sIy4"
      },
      "outputs": [],
      "source": [
        "def tworzenie_napisu(L):\n",
        "  napis = ''.join(map(str, L))\n",
        "  return napis"
      ]
    },
    {
      "cell_type": "code",
      "execution_count": 22,
      "metadata": {
        "colab": {
          "base_uri": "https://localhost:8080/"
        },
        "id": "-nobON3nuy3a",
        "outputId": "f378ac0b-d65d-4ae8-f9f6-681444802256"
      },
      "outputs": [
        {
          "name": "stdout",
          "output_type": "stream",
          "text": [
            "12345\n"
          ]
        }
      ],
      "source": [
        "L = [1, 2, 3, 4, 5]\n",
        "print(tworzenie_napisu(L))"
      ]
    },
    {
      "cell_type": "markdown",
      "metadata": {
        "id": "gEj_HAwPu64K"
      },
      "source": [
        "# ZADANIE 2.16\n",
        "W tekście znajdującym się w zmiennej line zamienić ciąg znaków \"GvR\" na \"Guido van Rossum\"."
      ]
    },
    {
      "cell_type": "code",
      "execution_count": 23,
      "metadata": {
        "id": "XoebYehju_37"
      },
      "outputs": [],
      "source": [
        "def zamiana_znakow(line):\n",
        "  return line.replace(\"GvR\", \"Guido van Rossum\")"
      ]
    },
    {
      "cell_type": "code",
      "execution_count": 24,
      "metadata": {
        "colab": {
          "base_uri": "https://localhost:8080/"
        },
        "id": "vEC2ZDV-xFG4",
        "outputId": "e1cf7189-cb8d-4fba-f139-ffb41409283a"
      },
      "outputs": [
        {
          "name": "stdout",
          "output_type": "stream",
          "text": [
            "To jest przykładowy\n",
            "wielowierszowy tekst Guido van Rossum,\n",
            "który zawiera kilka wyrazów.\n"
          ]
        }
      ],
      "source": [
        "line = \"\"\"To jest przykładowy\n",
        "wielowierszowy tekst GvR,\n",
        "który zawiera kilka wyrazów.\"\"\"\n",
        "print(zamiana_znakow(line))"
      ]
    },
    {
      "cell_type": "markdown",
      "metadata": {
        "id": "4KDzVBLqxWZw"
      },
      "source": [
        "# ZADANIE 2.17\n",
        "Posortować wyrazy z napisu line raz alfabetycznie, a raz pod względem długości. Wskazówka: funkcja wbudowana sorted()."
      ]
    },
    {
      "cell_type": "code",
      "execution_count": 36,
      "metadata": {
        "id": "k0QA4y-PxbWc"
      },
      "outputs": [],
      "source": [
        "def sortowanie_alfab(line):\n",
        "  words = line.split()\n",
        "  return sorted(words, key = str.casefold)\n",
        "\n",
        "def sortowanie_dlug(line):\n",
        "  words = line.split()\n",
        "  return sorted(words, key=len)"
      ]
    },
    {
      "cell_type": "code",
      "execution_count": 37,
      "metadata": {
        "colab": {
          "base_uri": "https://localhost:8080/"
        },
        "id": "OiiEmaAtywLu",
        "outputId": "7dca659d-c890-49b7-821e-7c1e1638cba1"
      },
      "outputs": [
        {
          "name": "stdout",
          "output_type": "stream",
          "text": [
            "['GvR,', 'jest', 'kilka', 'który', 'przykładowy', 'tekst', 'To', 'wielowierszowy', 'wyrazów.', 'zawiera'] ['To', 'jest', 'GvR,', 'tekst', 'który', 'kilka', 'zawiera', 'wyrazów.', 'przykładowy', 'wielowierszowy']\n"
          ]
        }
      ],
      "source": [
        "print(sortowanie_alfab(line), sortowanie_dlug(line))"
      ]
    },
    {
      "cell_type": "markdown",
      "metadata": {
        "id": "Djrat3a3zsv2"
      },
      "source": [
        "# ZADANIE 2.18\n",
        "Znaleźć liczbę cyfr zero w dużej liczbie całkowitej. Wskazówka: zamienić liczbę na napis."
      ]
    },
    {
      "cell_type": "code",
      "execution_count": 45,
      "metadata": {
        "id": "jq3UD-Y1zvuJ"
      },
      "outputs": [],
      "source": [
        "def znajdowanie_zer(liczba):\n",
        "  liczba_str = str(liczba)\n",
        "  licznik = liczba_str.count('0')\n",
        "  return licznik"
      ]
    },
    {
      "cell_type": "code",
      "execution_count": 46,
      "metadata": {
        "colab": {
          "base_uri": "https://localhost:8080/"
        },
        "id": "6bWhQiy72u3l",
        "outputId": "c07c2946-0915-4e70-c6cc-31c399f43d85"
      },
      "outputs": [
        {
          "name": "stdout",
          "output_type": "stream",
          "text": [
            "4\n"
          ]
        }
      ],
      "source": [
        "liczba = 1003658036450\n",
        "print(znajdowanie_zer(liczba))"
      ]
    },
    {
      "cell_type": "markdown",
      "metadata": {
        "id": "ibSpvzrZ7ADo"
      },
      "source": [
        "# ZADANIE 2.19\n",
        "Na liście L mamy liczby jedno-, dwu- i trzycyfrowe dodatnie. Chcemy zbudować napis z trzycyfrowych bloków, gdzie liczby jedno- i dwucyfrowe będą miały blok dopełniony zerami, np. 007, 024. Wskazówka: str.zfill()."
      ]
    },
    {
      "cell_type": "code",
      "execution_count": 47,
      "metadata": {
        "id": "Wztqowm27EaQ"
      },
      "outputs": [],
      "source": [
        "def tworzenie_blokow(L):\n",
        "  return [str(liczba).zfill(3) for liczba in L]"
      ]
    },
    {
      "cell_type": "code",
      "execution_count": 49,
      "metadata": {
        "colab": {
          "base_uri": "https://localhost:8080/"
        },
        "id": "_C2fbARR7Owh",
        "outputId": "ae3c5d9f-fa06-4417-d855-5afd46ac0e9a"
      },
      "outputs": [
        {
          "name": "stdout",
          "output_type": "stream",
          "text": [
            "['001', '052', '893', '064', '005']\n"
          ]
        }
      ],
      "source": [
        "L = [1, 52, 893, 64, 5]\n",
        "print(tworzenie_blokow(L))"
      ]
    }
  ],
  "metadata": {
    "colab": {
      "provenance": [],
      "toc_visible": true
    },
    "kernelspec": {
      "display_name": "Python 3",
      "name": "python3"
    },
    "language_info": {
      "name": "python"
    }
  },
  "nbformat": 4,
  "nbformat_minor": 0
}
